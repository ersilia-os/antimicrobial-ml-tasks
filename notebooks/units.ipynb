{
 "cells": [
  {
   "cell_type": "code",
   "execution_count": 7,
   "metadata": {},
   "outputs": [],
   "source": [
    "import os\n",
    "import pandas as pd\n",
    "\n",
    "DATAPATH = \"../data\"\n",
    "CONFIGPATH = \"../config\""
   ]
  },
  {
   "cell_type": "code",
   "execution_count": 9,
   "metadata": {},
   "outputs": [],
   "source": [
    "allunits = []\n",
    "\n",
    "# List all files in the folder\n",
    "file_list = os.listdir(os.path.join(DATAPATH, \"pathogen_original\"))\n",
    "\n",
    "# Iterate through each file\n",
    "for filename in file_list:\n",
    "    df = pd.read_csv(os.path.join(DATAPATH, \"pathogen_original\", filename), low_memory=False)\n",
    "    units = list(set(df[\"standard_units\"]))\n",
    "    allunits.extend(units)\n",
    "\n",
    "allunits = list(set(allunits))\n",
    "df = pd.DataFrame({\"units\": allunits})\n",
    "df.to_csv(os.path.join(CONFIGPATH, \"units.csv\"), index=False)"
   ]
  },
  {
   "cell_type": "code",
   "execution_count": 22,
   "metadata": {},
   "outputs": [
    {
     "data": {
      "text/plain": [
       "Index(['doc_id', 'assay_id', 'activity_id', 'assay_type',\n",
       "       'assay_confidence_score', 'assay_bao_format', 'compound_chembl_id',\n",
       "       'canonical_smiles', 'standard_type', 'standard_value', 'standard_units',\n",
       "       'standard_relation', 'pchembl_value', 'activity_comment',\n",
       "       'target_chembl_id', 'target_type', 'target_organism',\n",
       "       'target_pref_name', 'target_tax_id', 'protein_accession_class', 'year',\n",
       "       'pubmed_id', 'assay_chembl_id', 'count_activity_rows', 'doc_id_all',\n",
       "       'assay_id_all', 'activity_id_all', 'assay_description'],\n",
       "      dtype='object')"
      ]
     },
     "execution_count": 22,
     "metadata": {},
     "output_type": "execute_result"
    }
   ],
   "source": [
    "df = pd.read_csv(os.path.join(DATAPATH, \"pathogen_original\", \"efaecium.csv\"), low_memory=False)\n",
    "df.columns"
   ]
  },
  {
   "cell_type": "code",
   "execution_count": 13,
   "metadata": {},
   "outputs": [],
   "source": [
    "#the units file has been processed in UCUM\n",
    "#selected units will be converted to standard:\n",
    "#Molar: umol\n",
    "#weight/volume: ug.ml-1 to uM\n",
    "#weight/weight: ug.mg-1\n",
    "#molar/weight: umol/mg\n",
    "f = \"lambda x, y: x*y/1000\"\n",
    "\n",
    "f = eval(f)"
   ]
  },
  {
   "cell_type": "code",
   "execution_count": 15,
   "metadata": {},
   "outputs": [
    {
     "data": {
      "text/plain": [
       "0.006"
      ]
     },
     "execution_count": 15,
     "metadata": {},
     "output_type": "execute_result"
    }
   ],
   "source": [
    "f(3,2)"
   ]
  },
  {
   "cell_type": "code",
   "execution_count": 18,
   "metadata": {},
   "outputs": [],
   "source": [
    "s = 'standard_value/(molecular_weight/1000)/1000'\n",
    "\n",
    "def parse_function(s):\n",
    "    if 'standard_value' not in s:\n",
    "        return None\n",
    "    if \"molecular_weight\" in s:\n",
    "        p = \"lambda x,y: \"\n",
    "    else:\n",
    "        p = \"lambda x: \"\n",
    "    s = s.replace(\"molecular_weight\", \"y\")\n",
    "    s = s.replace(\"standard_value\", \"x\")\n",
    "    s = p + s\n",
    "    return eval(s)\n",
    "\n",
    "f = parse_function(s)"
   ]
  },
  {
   "cell_type": "code",
   "execution_count": 19,
   "metadata": {},
   "outputs": [
    {
     "data": {
      "text/plain": [
       "0.5"
      ]
     },
     "execution_count": 19,
     "metadata": {},
     "output_type": "execute_result"
    }
   ],
   "source": [
    "f(1,2)"
   ]
  }
 ],
 "metadata": {
  "kernelspec": {
   "display_name": "chembl",
   "language": "python",
   "name": "python3"
  },
  "language_info": {
   "codemirror_mode": {
    "name": "ipython",
    "version": 3
   },
   "file_extension": ".py",
   "mimetype": "text/x-python",
   "name": "python",
   "nbconvert_exporter": "python",
   "pygments_lexer": "ipython3",
   "version": "3.10.12"
  },
  "orig_nbformat": 4
 },
 "nbformat": 4,
 "nbformat_minor": 2
}
